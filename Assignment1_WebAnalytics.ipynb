{
 "cells": [
  {
   "cell_type": "code",
   "execution_count": 1,
   "id": "fd0ea489-5507-487e-b797-5f95e247e473",
   "metadata": {},
   "outputs": [],
   "source": [
    "import warnings\n",
    "warnings.filterwarnings('ignore')"
   ]
  },
  {
   "cell_type": "code",
   "execution_count": 2,
   "id": "9ccd2358-8c90-46ac-bf5c-1a9cccc032c1",
   "metadata": {},
   "outputs": [],
   "source": [
    "import pandas as pd\n",
    "import numpy as np"
   ]
  },
  {
   "cell_type": "code",
   "execution_count": 3,
   "id": "9feffde1-7292-45f3-8108-47eb59e58bc7",
   "metadata": {},
   "outputs": [
    {
     "data": {
      "text/html": [
       "<div>\n",
       "<style scoped>\n",
       "    .dataframe tbody tr th:only-of-type {\n",
       "        vertical-align: middle;\n",
       "    }\n",
       "\n",
       "    .dataframe tbody tr th {\n",
       "        vertical-align: top;\n",
       "    }\n",
       "\n",
       "    .dataframe thead th {\n",
       "        text-align: right;\n",
       "    }\n",
       "</style>\n",
       "<table border=\"1\" class=\"dataframe\">\n",
       "  <thead>\n",
       "    <tr style=\"text-align: right;\">\n",
       "      <th></th>\n",
       "      <th>Object Number</th>\n",
       "      <th>Object ID</th>\n",
       "      <th>Department</th>\n",
       "      <th>Object Name</th>\n",
       "      <th>Title</th>\n",
       "      <th>Culture</th>\n",
       "      <th>Period</th>\n",
       "      <th>Dynasty</th>\n",
       "      <th>Reign</th>\n",
       "      <th>Portfolio</th>\n",
       "      <th>...</th>\n",
       "      <th>Locale</th>\n",
       "      <th>Locus</th>\n",
       "      <th>Excavation</th>\n",
       "      <th>River</th>\n",
       "      <th>Classification</th>\n",
       "      <th>Rights and Reproduction</th>\n",
       "      <th>Link Resource</th>\n",
       "      <th>Metadata Date</th>\n",
       "      <th>Repository</th>\n",
       "      <th>Tags</th>\n",
       "    </tr>\n",
       "  </thead>\n",
       "  <tbody>\n",
       "    <tr>\n",
       "      <th>0</th>\n",
       "      <td>62.16</td>\n",
       "      <td>1674</td>\n",
       "      <td>American Decorative Arts</td>\n",
       "      <td>Side Chair</td>\n",
       "      <td>Side Chair</td>\n",
       "      <td>American</td>\n",
       "      <td>NaN</td>\n",
       "      <td>NaN</td>\n",
       "      <td>NaN</td>\n",
       "      <td>NaN</td>\n",
       "      <td>...</td>\n",
       "      <td>NaN</td>\n",
       "      <td>NaN</td>\n",
       "      <td>NaN</td>\n",
       "      <td>NaN</td>\n",
       "      <td>Furniture</td>\n",
       "      <td>NaN</td>\n",
       "      <td>http://www.metmuseum.org/art/collection/search...</td>\n",
       "      <td>5/13/2019 8:00</td>\n",
       "      <td>Metropolitan Museum of Art, New York, NY</td>\n",
       "      <td>Chairs</td>\n",
       "    </tr>\n",
       "    <tr>\n",
       "      <th>1</th>\n",
       "      <td>13.7.17</td>\n",
       "      <td>2430</td>\n",
       "      <td>American Decorative Arts</td>\n",
       "      <td>Pitcher</td>\n",
       "      <td>Covered Pitcher</td>\n",
       "      <td>American</td>\n",
       "      <td>NaN</td>\n",
       "      <td>NaN</td>\n",
       "      <td>NaN</td>\n",
       "      <td>NaN</td>\n",
       "      <td>...</td>\n",
       "      <td>NaN</td>\n",
       "      <td>NaN</td>\n",
       "      <td>NaN</td>\n",
       "      <td>NaN</td>\n",
       "      <td>Ceramics</td>\n",
       "      <td>NaN</td>\n",
       "      <td>http://www.metmuseum.org/art/collection/search...</td>\n",
       "      <td>5/13/2019 8:00</td>\n",
       "      <td>Metropolitan Museum of Art, New York, NY</td>\n",
       "      <td>Pitchers</td>\n",
       "    </tr>\n",
       "    <tr>\n",
       "      <th>2</th>\n",
       "      <td>33.85.11</td>\n",
       "      <td>6406</td>\n",
       "      <td>American Decorative Arts</td>\n",
       "      <td>Plate</td>\n",
       "      <td>Plate</td>\n",
       "      <td>Dutch</td>\n",
       "      <td>NaN</td>\n",
       "      <td>NaN</td>\n",
       "      <td>NaN</td>\n",
       "      <td>NaN</td>\n",
       "      <td>...</td>\n",
       "      <td>NaN</td>\n",
       "      <td>NaN</td>\n",
       "      <td>NaN</td>\n",
       "      <td>NaN</td>\n",
       "      <td>Ceramics</td>\n",
       "      <td>NaN</td>\n",
       "      <td>http://www.metmuseum.org/art/collection/search...</td>\n",
       "      <td>5/13/2019 8:00</td>\n",
       "      <td>Metropolitan Museum of Art, New York, NY</td>\n",
       "      <td>NaN</td>\n",
       "    </tr>\n",
       "    <tr>\n",
       "      <th>3</th>\n",
       "      <td>69.194.109</td>\n",
       "      <td>7616</td>\n",
       "      <td>American Decorative Arts</td>\n",
       "      <td>Soup bowl</td>\n",
       "      <td>Soup Bowl</td>\n",
       "      <td>American</td>\n",
       "      <td>NaN</td>\n",
       "      <td>NaN</td>\n",
       "      <td>NaN</td>\n",
       "      <td>NaN</td>\n",
       "      <td>...</td>\n",
       "      <td>NaN</td>\n",
       "      <td>NaN</td>\n",
       "      <td>NaN</td>\n",
       "      <td>NaN</td>\n",
       "      <td>Ceramics</td>\n",
       "      <td>NaN</td>\n",
       "      <td>http://www.metmuseum.org/art/collection/search...</td>\n",
       "      <td>5/13/2019 8:00</td>\n",
       "      <td>Metropolitan Museum of Art, New York, NY</td>\n",
       "      <td>Bowls</td>\n",
       "    </tr>\n",
       "    <tr>\n",
       "      <th>4</th>\n",
       "      <td>2006.235.20</td>\n",
       "      <td>15012</td>\n",
       "      <td>American Decorative Arts</td>\n",
       "      <td>Painting, miniature</td>\n",
       "      <td>Portrait of a Lady</td>\n",
       "      <td>American</td>\n",
       "      <td>NaN</td>\n",
       "      <td>NaN</td>\n",
       "      <td>NaN</td>\n",
       "      <td>NaN</td>\n",
       "      <td>...</td>\n",
       "      <td>NaN</td>\n",
       "      <td>NaN</td>\n",
       "      <td>NaN</td>\n",
       "      <td>NaN</td>\n",
       "      <td>Paintings</td>\n",
       "      <td>NaN</td>\n",
       "      <td>http://www.metmuseum.org/art/collection/search...</td>\n",
       "      <td>5/13/2019 8:00</td>\n",
       "      <td>Metropolitan Museum of Art, New York, NY</td>\n",
       "      <td>Pendants|Portraits|Women</td>\n",
       "    </tr>\n",
       "  </tbody>\n",
       "</table>\n",
       "<p>5 rows × 41 columns</p>\n",
       "</div>"
      ],
      "text/plain": [
       "  Object Number  Object ID                Department          Object Name  \\\n",
       "0         62.16       1674  American Decorative Arts           Side Chair   \n",
       "1       13.7.17       2430  American Decorative Arts              Pitcher   \n",
       "2      33.85.11       6406  American Decorative Arts                Plate   \n",
       "3    69.194.109       7616  American Decorative Arts            Soup bowl   \n",
       "4   2006.235.20      15012  American Decorative Arts  Painting, miniature   \n",
       "\n",
       "                Title   Culture Period Dynasty Reign Portfolio  ... Locale  \\\n",
       "0          Side Chair  American    NaN     NaN   NaN       NaN  ...    NaN   \n",
       "1     Covered Pitcher  American    NaN     NaN   NaN       NaN  ...    NaN   \n",
       "2               Plate     Dutch    NaN     NaN   NaN       NaN  ...    NaN   \n",
       "3           Soup Bowl  American    NaN     NaN   NaN       NaN  ...    NaN   \n",
       "4  Portrait of a Lady  American    NaN     NaN   NaN       NaN  ...    NaN   \n",
       "\n",
       "  Locus Excavation River Classification Rights and Reproduction  \\\n",
       "0   NaN        NaN   NaN      Furniture                     NaN   \n",
       "1   NaN        NaN   NaN       Ceramics                     NaN   \n",
       "2   NaN        NaN   NaN       Ceramics                     NaN   \n",
       "3   NaN        NaN   NaN       Ceramics                     NaN   \n",
       "4   NaN        NaN   NaN      Paintings                     NaN   \n",
       "\n",
       "                                       Link Resource   Metadata Date  \\\n",
       "0  http://www.metmuseum.org/art/collection/search...  5/13/2019 8:00   \n",
       "1  http://www.metmuseum.org/art/collection/search...  5/13/2019 8:00   \n",
       "2  http://www.metmuseum.org/art/collection/search...  5/13/2019 8:00   \n",
       "3  http://www.metmuseum.org/art/collection/search...  5/13/2019 8:00   \n",
       "4  http://www.metmuseum.org/art/collection/search...  5/13/2019 8:00   \n",
       "\n",
       "                                 Repository                      Tags  \n",
       "0  Metropolitan Museum of Art, New York, NY                    Chairs  \n",
       "1  Metropolitan Museum of Art, New York, NY                  Pitchers  \n",
       "2  Metropolitan Museum of Art, New York, NY                       NaN  \n",
       "3  Metropolitan Museum of Art, New York, NY                     Bowls  \n",
       "4  Metropolitan Museum of Art, New York, NY  Pendants|Portraits|Women  \n",
       "\n",
       "[5 rows x 41 columns]"
      ]
     },
     "execution_count": 3,
     "metadata": {},
     "output_type": "execute_result"
    }
   ],
   "source": [
    "data = pd.read_csv(\"Assignment1Data_Sample.csv\")\n",
    "data.head()"
   ]
  },
  {
   "cell_type": "code",
   "execution_count": 4,
   "id": "23484ec6-d0cb-43ad-bf4a-026527998b38",
   "metadata": {},
   "outputs": [
    {
     "data": {
      "text/plain": [
       "(204, 41)"
      ]
     },
     "execution_count": 4,
     "metadata": {},
     "output_type": "execute_result"
    }
   ],
   "source": [
    "data.shape"
   ]
  },
  {
   "cell_type": "code",
   "execution_count": 5,
   "id": "951e0006-80eb-4925-bc8a-b3f5c59de9e1",
   "metadata": {},
   "outputs": [
    {
     "name": "stdout",
     "output_type": "stream",
     "text": [
      "<class 'pandas.core.frame.DataFrame'>\n",
      "RangeIndex: 204 entries, 0 to 203\n",
      "Data columns (total 41 columns):\n",
      " #   Column                   Non-Null Count  Dtype  \n",
      "---  ------                   --------------  -----  \n",
      " 0   Object Number            204 non-null    object \n",
      " 1   Object ID                204 non-null    int64  \n",
      " 2   Department               203 non-null    object \n",
      " 3   Object Name              203 non-null    object \n",
      " 4   Title                    194 non-null    object \n",
      " 5   Culture                  84 non-null     object \n",
      " 6   Period                   31 non-null     object \n",
      " 7   Dynasty                  9 non-null      object \n",
      " 8   Reign                    5 non-null      object \n",
      " 9   Portfolio                8 non-null      object \n",
      " 10  Artist Role              127 non-null    object \n",
      " 11  Artist Prefix            39 non-null     object \n",
      " 12  Artist Display Name      127 non-null    object \n",
      " 13  Artist Display Bio       108 non-null    object \n",
      " 14  Artist Suffix            5 non-null      object \n",
      " 15  Artist Nationality       87 non-null     object \n",
      " 16  Artist Begin Date        98 non-null     object \n",
      " 17  Artist End Date          97 non-null     object \n",
      " 18  Object Date              199 non-null    object \n",
      " 19  Object Begin Date        204 non-null    int64  \n",
      " 20  Object End Date          202 non-null    float64\n",
      " 21  Medium                   202 non-null    object \n",
      " 22  Dimensions               166 non-null    object \n",
      " 23  Credit Line              204 non-null    object \n",
      " 24  Geography Type           23 non-null     object \n",
      " 25  City                     14 non-null     object \n",
      " 26  State                    1 non-null      object \n",
      " 27  County                   3 non-null      object \n",
      " 28  Country                  32 non-null     object \n",
      " 29  Region                   18 non-null     object \n",
      " 30  Subregion                12 non-null     object \n",
      " 31  Locale                   7 non-null      object \n",
      " 32  Locus                    4 non-null      object \n",
      " 33  Excavation               7 non-null      object \n",
      " 34  River                    2 non-null      object \n",
      " 35  Classification           173 non-null    object \n",
      " 36  Rights and Reproduction  7 non-null      object \n",
      " 37  Link Resource            204 non-null    object \n",
      " 38  Metadata Date            204 non-null    object \n",
      " 39  Repository               204 non-null    object \n",
      " 40  Tags                     111 non-null    object \n",
      "dtypes: float64(1), int64(2), object(38)\n",
      "memory usage: 65.5+ KB\n"
     ]
    }
   ],
   "source": [
    "data.info()"
   ]
  },
  {
   "cell_type": "code",
   "execution_count": 6,
   "id": "3f4a597f-81c4-492c-9bcc-0cfa72677850",
   "metadata": {},
   "outputs": [
    {
     "data": {
      "text/html": [
       "<div>\n",
       "<style scoped>\n",
       "    .dataframe tbody tr th:only-of-type {\n",
       "        vertical-align: middle;\n",
       "    }\n",
       "\n",
       "    .dataframe tbody tr th {\n",
       "        vertical-align: top;\n",
       "    }\n",
       "\n",
       "    .dataframe thead th {\n",
       "        text-align: right;\n",
       "    }\n",
       "</style>\n",
       "<table border=\"1\" class=\"dataframe\">\n",
       "  <thead>\n",
       "    <tr style=\"text-align: right;\">\n",
       "      <th></th>\n",
       "      <th>Object ID</th>\n",
       "      <th>Department</th>\n",
       "      <th>Object Name</th>\n",
       "      <th>Title</th>\n",
       "      <th>Culture</th>\n",
       "      <th>Artist Nationality</th>\n",
       "      <th>Object Begin Date</th>\n",
       "      <th>Object End Date</th>\n",
       "      <th>Medium</th>\n",
       "      <th>Credit Line</th>\n",
       "      <th>Country</th>\n",
       "    </tr>\n",
       "  </thead>\n",
       "  <tbody>\n",
       "    <tr>\n",
       "      <th>0</th>\n",
       "      <td>1674</td>\n",
       "      <td>American Decorative Arts</td>\n",
       "      <td>Side Chair</td>\n",
       "      <td>Side Chair</td>\n",
       "      <td>American</td>\n",
       "      <td>NaN</td>\n",
       "      <td>1794</td>\n",
       "      <td>1799.0</td>\n",
       "      <td>Mahogany, ebony, ash, birch, white pine</td>\n",
       "      <td>Friends of the American Wing Fund, 1962</td>\n",
       "      <td>United States</td>\n",
       "    </tr>\n",
       "    <tr>\n",
       "      <th>1</th>\n",
       "      <td>2430</td>\n",
       "      <td>American Decorative Arts</td>\n",
       "      <td>Pitcher</td>\n",
       "      <td>Covered Pitcher</td>\n",
       "      <td>American</td>\n",
       "      <td>NaN</td>\n",
       "      <td>1700</td>\n",
       "      <td>1900.0</td>\n",
       "      <td>Earthenware</td>\n",
       "      <td>Rogers Fund, 1913</td>\n",
       "      <td>United States</td>\n",
       "    </tr>\n",
       "    <tr>\n",
       "      <th>2</th>\n",
       "      <td>6406</td>\n",
       "      <td>American Decorative Arts</td>\n",
       "      <td>Plate</td>\n",
       "      <td>Plate</td>\n",
       "      <td>Dutch</td>\n",
       "      <td>NaN</td>\n",
       "      <td>1740</td>\n",
       "      <td>1760.0</td>\n",
       "      <td>Earthenware</td>\n",
       "      <td>Rogers Fund, 1933</td>\n",
       "      <td>Netherlands</td>\n",
       "    </tr>\n",
       "    <tr>\n",
       "      <th>3</th>\n",
       "      <td>7616</td>\n",
       "      <td>American Decorative Arts</td>\n",
       "      <td>Soup bowl</td>\n",
       "      <td>Soup Bowl</td>\n",
       "      <td>American</td>\n",
       "      <td>NaN</td>\n",
       "      <td>1885</td>\n",
       "      <td>1885.0</td>\n",
       "      <td>Porcelain</td>\n",
       "      <td>Gift of Mr. and Mrs. Franklin Chace, 1969</td>\n",
       "      <td>United States</td>\n",
       "    </tr>\n",
       "    <tr>\n",
       "      <th>4</th>\n",
       "      <td>15012</td>\n",
       "      <td>American Decorative Arts</td>\n",
       "      <td>Painting, miniature</td>\n",
       "      <td>Portrait of a Lady</td>\n",
       "      <td>American</td>\n",
       "      <td>NaN</td>\n",
       "      <td>1840</td>\n",
       "      <td>1840.0</td>\n",
       "      <td>Watercolor on ivory</td>\n",
       "      <td>Fletcher Fund, 2006</td>\n",
       "      <td>NaN</td>\n",
       "    </tr>\n",
       "  </tbody>\n",
       "</table>\n",
       "</div>"
      ],
      "text/plain": [
       "   Object ID                Department          Object Name  \\\n",
       "0       1674  American Decorative Arts           Side Chair   \n",
       "1       2430  American Decorative Arts              Pitcher   \n",
       "2       6406  American Decorative Arts                Plate   \n",
       "3       7616  American Decorative Arts            Soup bowl   \n",
       "4      15012  American Decorative Arts  Painting, miniature   \n",
       "\n",
       "                Title   Culture Artist Nationality  Object Begin Date  \\\n",
       "0          Side Chair  American                NaN               1794   \n",
       "1     Covered Pitcher  American                NaN               1700   \n",
       "2               Plate     Dutch                NaN               1740   \n",
       "3           Soup Bowl  American                NaN               1885   \n",
       "4  Portrait of a Lady  American                NaN               1840   \n",
       "\n",
       "   Object End Date                                   Medium  \\\n",
       "0           1799.0  Mahogany, ebony, ash, birch, white pine   \n",
       "1           1900.0                              Earthenware   \n",
       "2           1760.0                              Earthenware   \n",
       "3           1885.0                                Porcelain   \n",
       "4           1840.0                      Watercolor on ivory   \n",
       "\n",
       "                                 Credit Line        Country  \n",
       "0    Friends of the American Wing Fund, 1962  United States  \n",
       "1                          Rogers Fund, 1913  United States  \n",
       "2                          Rogers Fund, 1933    Netherlands  \n",
       "3  Gift of Mr. and Mrs. Franklin Chace, 1969  United States  \n",
       "4                        Fletcher Fund, 2006            NaN  "
      ]
     },
     "execution_count": 6,
     "metadata": {},
     "output_type": "execute_result"
    }
   ],
   "source": [
    "# choosing required columns\n",
    "df = data[[\"Object ID\",\"Department\",\"Object Name\",\"Title\",\"Culture\",\n",
    "           \"Artist Nationality\",\"Object Begin Date\",\"Object End Date\",\n",
    "          \"Medium\",\"Credit Line\", \"Country\"]]\n",
    "df.head()"
   ]
  },
  {
   "cell_type": "code",
   "execution_count": 7,
   "id": "8409dc3a-9d09-4c8e-83f3-dc05c47edac9",
   "metadata": {},
   "outputs": [
    {
     "data": {
      "text/plain": [
       "(204, 11)"
      ]
     },
     "execution_count": 7,
     "metadata": {},
     "output_type": "execute_result"
    }
   ],
   "source": [
    "df.shape"
   ]
  },
  {
   "cell_type": "code",
   "execution_count": 8,
   "id": "95341a4c-c4ce-478e-896d-13b24e90386e",
   "metadata": {},
   "outputs": [
    {
     "name": "stdout",
     "output_type": "stream",
     "text": [
      "<class 'pandas.core.frame.DataFrame'>\n",
      "RangeIndex: 204 entries, 0 to 203\n",
      "Data columns (total 11 columns):\n",
      " #   Column              Non-Null Count  Dtype  \n",
      "---  ------              --------------  -----  \n",
      " 0   Object ID           204 non-null    int64  \n",
      " 1   Department          203 non-null    object \n",
      " 2   Object Name         203 non-null    object \n",
      " 3   Title               194 non-null    object \n",
      " 4   Culture             84 non-null     object \n",
      " 5   Artist Nationality  87 non-null     object \n",
      " 6   Object Begin Date   204 non-null    int64  \n",
      " 7   Object End Date     202 non-null    float64\n",
      " 8   Medium              202 non-null    object \n",
      " 9   Credit Line         204 non-null    object \n",
      " 10  Country             32 non-null     object \n",
      "dtypes: float64(1), int64(2), object(8)\n",
      "memory usage: 17.7+ KB\n"
     ]
    }
   ],
   "source": [
    "df.info()"
   ]
  },
  {
   "cell_type": "code",
   "execution_count": 9,
   "id": "0602f2be-6849-422a-b176-1d7236551969",
   "metadata": {},
   "outputs": [
    {
     "data": {
      "text/plain": [
       "Object ID\n",
       "316760    2\n",
       "100359    2\n",
       "563318    2\n",
       "486599    2\n",
       "1674      1\n",
       "         ..\n",
       "286197    1\n",
       "311479    1\n",
       "312687    1\n",
       "313019    1\n",
       "824428    1\n",
       "Name: count, Length: 200, dtype: int64"
      ]
     },
     "execution_count": 9,
     "metadata": {},
     "output_type": "execute_result"
    }
   ],
   "source": [
    "# checking if \"Object ID\" is unique\n",
    "df['Object ID'].value_counts()"
   ]
  },
  {
   "cell_type": "code",
   "execution_count": 10,
   "id": "45bca0fa-ecd2-4d3b-8314-f493a9379d1c",
   "metadata": {},
   "outputs": [],
   "source": [
    "df.drop_duplicates(inplace=True) #dropping duplicates to get unique \"Object ID\""
   ]
  },
  {
   "cell_type": "code",
   "execution_count": 11,
   "id": "3597e4c8-65bf-4b87-a005-bb9ede7598dd",
   "metadata": {},
   "outputs": [
    {
     "data": {
      "text/plain": [
       "(200, 11)"
      ]
     },
     "execution_count": 11,
     "metadata": {},
     "output_type": "execute_result"
    }
   ],
   "source": [
    "df.shape"
   ]
  },
  {
   "cell_type": "code",
   "execution_count": 12,
   "id": "2ee052b9-c8ca-49aa-9e46-eb3dbc498809",
   "metadata": {},
   "outputs": [
    {
     "data": {
      "text/plain": [
       "Object ID\n",
       "1674      1\n",
       "488438    1\n",
       "459471    1\n",
       "466522    1\n",
       "468605    1\n",
       "         ..\n",
       "286197    1\n",
       "311479    1\n",
       "312687    1\n",
       "313019    1\n",
       "824428    1\n",
       "Name: count, Length: 200, dtype: int64"
      ]
     },
     "execution_count": 12,
     "metadata": {},
     "output_type": "execute_result"
    }
   ],
   "source": [
    "df['Object ID'].value_counts() #\"Object ID\" is unique"
   ]
  },
  {
   "cell_type": "code",
   "execution_count": 13,
   "id": "5f3f9a8c-38e5-4dd7-b9b8-17d7b79e8214",
   "metadata": {},
   "outputs": [],
   "source": [
    "# changing datatype of certain columns\n",
    "df.Department = df.Department.astype('category')\n",
    "df.Culture = df.Culture.astype('category')\n",
    "df['Artist Nationality']=df['Artist Nationality'].astype('category')\n",
    "df['Credit Line'] = df['Credit Line'].astype('category')\n",
    "df.Country = df.Country.astype('category')\n",
    "df['Object End Date'] = df['Object End Date'].astype('Int64')"
   ]
  },
  {
   "cell_type": "code",
   "execution_count": 14,
   "id": "2242dd8c-0da7-4fad-bcfb-0a2473115b64",
   "metadata": {},
   "outputs": [
    {
     "name": "stdout",
     "output_type": "stream",
     "text": [
      "Object ID                int64\n",
      "Department            category\n",
      "Object Name             object\n",
      "Title                   object\n",
      "Culture               category\n",
      "Artist Nationality    category\n",
      "Object Begin Date        int64\n",
      "Object End Date          Int64\n",
      "Medium                  object\n",
      "Credit Line           category\n",
      "Country               category\n",
      "dtype: object\n"
     ]
    }
   ],
   "source": [
    "print(df.dtypes)"
   ]
  },
  {
   "cell_type": "code",
   "execution_count": 15,
   "id": "acb24d2f-70a2-49ac-9aa1-b0af690543bf",
   "metadata": {},
   "outputs": [
    {
     "name": "stdout",
     "output_type": "stream",
     "text": [
      "<class 'pandas.core.frame.DataFrame'>\n",
      "Index: 200 entries, 0 to 203\n",
      "Data columns (total 11 columns):\n",
      " #   Column              Non-Null Count  Dtype   \n",
      "---  ------              --------------  -----   \n",
      " 0   Object ID           200 non-null    int64   \n",
      " 1   Department          199 non-null    category\n",
      " 2   Object Name         199 non-null    object  \n",
      " 3   Title               190 non-null    object  \n",
      " 4   Culture             82 non-null     category\n",
      " 5   Artist Nationality  85 non-null     category\n",
      " 6   Object Begin Date   200 non-null    int64   \n",
      " 7   Object End Date     198 non-null    Int64   \n",
      " 8   Medium              198 non-null    object  \n",
      " 9   Credit Line         200 non-null    category\n",
      " 10  Country             30 non-null     category\n",
      "dtypes: Int64(1), category(5), int64(2), object(3)\n",
      "memory usage: 21.6+ KB\n"
     ]
    }
   ],
   "source": [
    "df.info()"
   ]
  },
  {
   "cell_type": "code",
   "execution_count": 16,
   "id": "5bf89b04-409f-41ee-8d5b-8453022cffde",
   "metadata": {},
   "outputs": [
    {
     "data": {
      "text/plain": [
       "Object ID               0\n",
       "Department              1\n",
       "Object Name             1\n",
       "Title                  10\n",
       "Culture               118\n",
       "Artist Nationality    115\n",
       "Object Begin Date       0\n",
       "Object End Date         2\n",
       "Medium                  2\n",
       "Credit Line             0\n",
       "Country               170\n",
       "dtype: int64"
      ]
     },
     "execution_count": 16,
     "metadata": {},
     "output_type": "execute_result"
    }
   ],
   "source": [
    "# checking missing values\n",
    "df.isna().sum()"
   ]
  },
  {
   "cell_type": "code",
   "execution_count": 17,
   "id": "7b213b04-ce77-4301-ad46-37df0e7346f1",
   "metadata": {},
   "outputs": [
    {
     "data": {
      "text/plain": [
       "Department\n",
       "Drawings and Prints                          79\n",
       "Costume Institute                            19\n",
       "Photographs                                  15\n",
       "European Sculpture and Decorative Arts       14\n",
       "Greek and Roman Art                          12\n",
       "Asian Art                                    11\n",
       "Egyptian Art                                 10\n",
       "Arms and Armor                                7\n",
       "Modern and Contemporary Art                   6\n",
       "Arts of Africa, Oceania, and the Americas     6\n",
       "American Decorative Arts                      5\n",
       "Islamic Art                                   4\n",
       "Ancient Near Eastern Art                      4\n",
       "Medieval Art                                  3\n",
       "The Cloisters                                 3\n",
       "Robert Lehman Collection                      1\n",
       "NaN                                           1\n",
       "Name: count, dtype: int64"
      ]
     },
     "execution_count": 17,
     "metadata": {},
     "output_type": "execute_result"
    }
   ],
   "source": [
    "# Checking the missing values further for \"Department\"\n",
    "df.Department.value_counts(dropna=False)"
   ]
  },
  {
   "cell_type": "code",
   "execution_count": 18,
   "id": "b0bc600b-479b-4d16-ac3b-afabe9afa45c",
   "metadata": {},
   "outputs": [
    {
     "data": {
      "text/plain": [
       "Department\n",
       "Drawings and Prints                          79\n",
       "Costume Institute                            19\n",
       "Photographs                                  15\n",
       "European Sculpture and Decorative Arts       14\n",
       "Greek and Roman Art                          12\n",
       "Asian Art                                    11\n",
       "Egyptian Art                                 10\n",
       "Arms and Armor                                7\n",
       "Modern and Contemporary Art                   6\n",
       "Arts of Africa, Oceania, and the Americas     6\n",
       "American Decorative Arts                      5\n",
       "Islamic Art                                   4\n",
       "Ancient Near Eastern Art                      4\n",
       "Medieval Art                                  3\n",
       "The Cloisters                                 3\n",
       "Robert Lehman Collection                      1\n",
       "Unknown                                       1\n",
       "Name: count, dtype: int64"
      ]
     },
     "execution_count": 18,
     "metadata": {},
     "output_type": "execute_result"
    }
   ],
   "source": [
    "# Replacing NaN with Unknown\n",
    "df.Department = df.Department.cat.add_categories('Unknown')\n",
    "df.Department.fillna('Unknown', inplace =True)\n",
    "df.Department.value_counts(dropna=False)"
   ]
  },
  {
   "cell_type": "code",
   "execution_count": 19,
   "id": "6b15295a-9c96-4a38-ab58-0f61b064c3a9",
   "metadata": {},
   "outputs": [
    {
     "data": {
      "text/plain": [
       "Object Name\n",
       "Print                   44\n",
       "Drawing                 11\n",
       "Photograph              11\n",
       "Book                     9\n",
       "Baseball card, print     7\n",
       "                        ..\n",
       "Chemisette               1\n",
       "Jacket                   1\n",
       "Necklace                 1\n",
       "Gloves                   1\n",
       "Print; ephemera          1\n",
       "Name: count, Length: 109, dtype: int64"
      ]
     },
     "execution_count": 19,
     "metadata": {},
     "output_type": "execute_result"
    }
   ],
   "source": [
    "# Checking the missing values further for \"Object Name\"\n",
    "df['Object Name'].value_counts(dropna=False)"
   ]
  },
  {
   "cell_type": "code",
   "execution_count": 20,
   "id": "31dc1b90-a8a1-4a51-8bf6-1e55f40a4d92",
   "metadata": {},
   "outputs": [
    {
     "data": {
      "text/plain": [
       "Object Name\n",
       "Print                   44\n",
       "Drawing                 11\n",
       "Photograph              11\n",
       "Book                     9\n",
       "Baseball card, print     7\n",
       "                        ..\n",
       "Chemisette               1\n",
       "Jacket                   1\n",
       "Necklace                 1\n",
       "Gloves                   1\n",
       "Print; ephemera          1\n",
       "Name: count, Length: 109, dtype: int64"
      ]
     },
     "execution_count": 20,
     "metadata": {},
     "output_type": "execute_result"
    }
   ],
   "source": [
    "# Replacing NaN with Unknown\n",
    "df['Object Name'].fillna('Unknown', inplace =True)\n",
    "df['Object Name'].value_counts(dropna=False)"
   ]
  },
  {
   "cell_type": "code",
   "execution_count": 21,
   "id": "1c4e9534-2ef8-40d0-8183-2dac71a16fa1",
   "metadata": {},
   "outputs": [
    {
     "data": {
      "text/plain": [
       "Title\n",
       "NaN                                              10\n",
       "Ensemble                                          3\n",
       "Fragment                                          3\n",
       "Terracotta fragment of a kylix (drinking cup)     2\n",
       "Evening dress                                     2\n",
       "                                                 ..\n",
       "Bird standard                                     1\n",
       "Bead                                              1\n",
       "New York Ledger: Bicycle Number                   1\n",
       "Figure Studies                                    1\n",
       "Landscape and Cattle                              1\n",
       "Name: count, Length: 185, dtype: int64"
      ]
     },
     "execution_count": 21,
     "metadata": {},
     "output_type": "execute_result"
    }
   ],
   "source": [
    "# Checking the missing values further for \"Title\"\n",
    "df.Title.value_counts(dropna=False)"
   ]
  },
  {
   "cell_type": "code",
   "execution_count": 22,
   "id": "7482ef04-6493-4d28-ad85-ce26ae4706d3",
   "metadata": {},
   "outputs": [
    {
     "data": {
      "text/plain": [
       "Title\n",
       "Unknown                                          10\n",
       "Ensemble                                          3\n",
       "Fragment                                          3\n",
       "Terracotta fragment of a kylix (drinking cup)     2\n",
       "Evening dress                                     2\n",
       "                                                 ..\n",
       "Bird standard                                     1\n",
       "Bead                                              1\n",
       "New York Ledger: Bicycle Number                   1\n",
       "Figure Studies                                    1\n",
       "Landscape and Cattle                              1\n",
       "Name: count, Length: 185, dtype: int64"
      ]
     },
     "execution_count": 22,
     "metadata": {},
     "output_type": "execute_result"
    }
   ],
   "source": [
    "# Replacing NaN with Unknown\n",
    "df.Title.fillna('Unknown', inplace =True)\n",
    "df.Title.value_counts(dropna=False)"
   ]
  },
  {
   "cell_type": "code",
   "execution_count": 23,
   "id": "32c39b00-9ded-4b88-82dd-3fb645ccbc90",
   "metadata": {},
   "outputs": [
    {
     "data": {
      "text/plain": [
       "Culture\n",
       "NaN                                       118\n",
       "American                                   12\n",
       "Greek, Attic                                7\n",
       "French                                      7\n",
       "Japan                                       6\n",
       "Japanese                                    4\n",
       "German                                      4\n",
       "China                                       3\n",
       "European                                    2\n",
       "Cypriot                                     2\n",
       "Italian, Venice                             2\n",
       "British                                     2\n",
       "probably French                             2\n",
       "Spanish                                     1\n",
       "Thailand                                    1\n",
       "Timor                                       1\n",
       "Romanian                                    1\n",
       "Quechua                                     1\n",
       "possibly Greek                              1\n",
       "Minoan, Crete                               1\n",
       "Minoan                                      1\n",
       "possibly Spanish                            1\n",
       "Mexican                                     1\n",
       "probably German                             1\n",
       "South Netherlandish                         1\n",
       "Abelam people                               1\n",
       "Italic                                      1\n",
       "Italian                                     1\n",
       "Iran                                        1\n",
       "German, Silesia (Bunzlau)                   1\n",
       "German, Hanau                               1\n",
       "European, Eastern                           1\n",
       "European or Middle Eastern                  1\n",
       "Dutch                                       1\n",
       "Catalan                                     1\n",
       "Byzantine                                   1\n",
       "British, Stoke-on-Trent, Staffordshire      1\n",
       "British, Chelsea                            1\n",
       "Aztec                                       1\n",
       "Atlantic Watershed                          1\n",
       "Asmat people                                1\n",
       "India (Guler, Punjab Hills)                 1\n",
       "Name: count, dtype: int64"
      ]
     },
     "execution_count": 23,
     "metadata": {},
     "output_type": "execute_result"
    }
   ],
   "source": [
    "# Checking the missing values further for \"Culture\"\n",
    "df.Culture.value_counts(dropna=False)"
   ]
  },
  {
   "cell_type": "code",
   "execution_count": 24,
   "id": "d4d36b4a-aee7-465a-a550-48f0a6772c23",
   "metadata": {},
   "outputs": [
    {
     "data": {
      "text/plain": [
       "Culture\n",
       "Unknown                                   118\n",
       "American                                   12\n",
       "Greek, Attic                                7\n",
       "French                                      7\n",
       "Japan                                       6\n",
       "Japanese                                    4\n",
       "German                                      4\n",
       "China                                       3\n",
       "European                                    2\n",
       "Cypriot                                     2\n",
       "Italian, Venice                             2\n",
       "British                                     2\n",
       "probably French                             2\n",
       "Spanish                                     1\n",
       "Thailand                                    1\n",
       "Timor                                       1\n",
       "Romanian                                    1\n",
       "Quechua                                     1\n",
       "possibly Greek                              1\n",
       "Minoan, Crete                               1\n",
       "Minoan                                      1\n",
       "possibly Spanish                            1\n",
       "Mexican                                     1\n",
       "probably German                             1\n",
       "South Netherlandish                         1\n",
       "Abelam people                               1\n",
       "Italic                                      1\n",
       "Italian                                     1\n",
       "Iran                                        1\n",
       "German, Silesia (Bunzlau)                   1\n",
       "German, Hanau                               1\n",
       "European, Eastern                           1\n",
       "European or Middle Eastern                  1\n",
       "Dutch                                       1\n",
       "Catalan                                     1\n",
       "Byzantine                                   1\n",
       "British, Stoke-on-Trent, Staffordshire      1\n",
       "British, Chelsea                            1\n",
       "Aztec                                       1\n",
       "Atlantic Watershed                          1\n",
       "Asmat people                                1\n",
       "India (Guler, Punjab Hills)                 1\n",
       "Name: count, dtype: int64"
      ]
     },
     "execution_count": 24,
     "metadata": {},
     "output_type": "execute_result"
    }
   ],
   "source": [
    "# Replacing NaN with Unknown\n",
    "df.Culture = df.Culture.cat.add_categories('Unknown')\n",
    "df.Culture.fillna('Unknown', inplace =True)\n",
    "df.Culture.value_counts(dropna=False)"
   ]
  },
  {
   "cell_type": "code",
   "execution_count": 25,
   "id": "99ee93bc-0dc9-4468-80b0-68ae2351d673",
   "metadata": {},
   "outputs": [
    {
     "data": {
      "text/plain": [
       "Artist Nationality\n",
       "NaN                                                        115\n",
       "American                                                    26\n",
       "Italian                                                     10\n",
       "Japanese                                                     4\n",
       "French                                                       4\n",
       "French|French                                                3\n",
       "British                                                      3\n",
       "Chinese                                                      2\n",
       "Mexican                                                      2\n",
       "Italian|Italian                                              2\n",
       "American, born Russia                                        2\n",
       "American|American                                            2\n",
       "Dutch                                                        1\n",
       "British|British                                              1\n",
       "Scottish|British|British, Scottish|British|British           1\n",
       "Netherlandish|German                                         1\n",
       "Austrian                                                     1\n",
       "Japanese|Japanese                                            1\n",
       "Belgian                                                      1\n",
       "Italian|Italian|Italian|Italian|Italian                      1\n",
       "Italian|Italian|German                                       1\n",
       "British, Scottish                                            1\n",
       "Italian|British                                              1\n",
       "Italian|Bohemian                                             1\n",
       "German|American|American|American                            1\n",
       "Dutch|Dutch|Dutch                                            1\n",
       "German                                                       1\n",
       "French|Italian                                               1\n",
       "French|French|French|French|French|French                    1\n",
       "French|French|French|French|French                           1\n",
       "American|American|American                                   1\n",
       "British|British|British|British|British|British|British      1\n",
       "French|British                                               1\n",
       "French, born Italy                                           1\n",
       "Canadian                                                     1\n",
       "Finnish|Finnish                                              1\n",
       "French|French?|French                                        1\n",
       "Name: count, dtype: int64"
      ]
     },
     "execution_count": 25,
     "metadata": {},
     "output_type": "execute_result"
    }
   ],
   "source": [
    "# Checking the missing values further for \"Artist Nationality\"\n",
    "df['Artist Nationality'].value_counts(dropna=False)"
   ]
  },
  {
   "cell_type": "code",
   "execution_count": 26,
   "id": "b8b54d2f-e3ac-4bfb-95a0-5e1b9ec77b66",
   "metadata": {},
   "outputs": [
    {
     "data": {
      "text/plain": [
       "Artist Nationality\n",
       "Unknown                                                    115\n",
       "American                                                    26\n",
       "Italian                                                     10\n",
       "Japanese                                                     4\n",
       "French                                                       4\n",
       "French|French                                                3\n",
       "British                                                      3\n",
       "Chinese                                                      2\n",
       "Mexican                                                      2\n",
       "Italian|Italian                                              2\n",
       "American, born Russia                                        2\n",
       "American|American                                            2\n",
       "Dutch                                                        1\n",
       "British|British                                              1\n",
       "Scottish|British|British, Scottish|British|British           1\n",
       "Netherlandish|German                                         1\n",
       "Austrian                                                     1\n",
       "Japanese|Japanese                                            1\n",
       "Belgian                                                      1\n",
       "Italian|Italian|Italian|Italian|Italian                      1\n",
       "Italian|Italian|German                                       1\n",
       "British, Scottish                                            1\n",
       "Italian|British                                              1\n",
       "Italian|Bohemian                                             1\n",
       "German|American|American|American                            1\n",
       "Dutch|Dutch|Dutch                                            1\n",
       "German                                                       1\n",
       "French|Italian                                               1\n",
       "French|French|French|French|French|French                    1\n",
       "French|French|French|French|French                           1\n",
       "American|American|American                                   1\n",
       "British|British|British|British|British|British|British      1\n",
       "French|British                                               1\n",
       "French, born Italy                                           1\n",
       "Canadian                                                     1\n",
       "Finnish|Finnish                                              1\n",
       "French|French?|French                                        1\n",
       "Name: count, dtype: int64"
      ]
     },
     "execution_count": 26,
     "metadata": {},
     "output_type": "execute_result"
    }
   ],
   "source": [
    "# Replacing NaN with Unknown\n",
    "df['Artist Nationality'] = df['Artist Nationality'].cat.add_categories('Unknown')\n",
    "df['Artist Nationality'].fillna('Unknown', inplace =True)\n",
    "df['Artist Nationality'].value_counts(dropna=False)"
   ]
  },
  {
   "cell_type": "code",
   "execution_count": 27,
   "id": "b9e6f1ce-87ff-477a-8d6d-ef3e2e25657f",
   "metadata": {},
   "outputs": [
    {
     "data": {
      "text/plain": [
       "Medium\n",
       "Commercial color lithograph                              11\n",
       "Terracotta                                                8\n",
       "Etching                                                   6\n",
       "Engraving                                                 6\n",
       "Gelatin silver print                                      5\n",
       "                                                         ..\n",
       "Stoneware                                                 1\n",
       "Gilt bronze                                               1\n",
       "Steel, silver, niello; case:  leather, silver, niello     1\n",
       "Wool                                                      1\n",
       "Sugar-lift aquatint with roulette                         1\n",
       "Name: count, Length: 147, dtype: int64"
      ]
     },
     "execution_count": 27,
     "metadata": {},
     "output_type": "execute_result"
    }
   ],
   "source": [
    "# Checking the missing values further for \"Medium\"\n",
    "df.Medium.value_counts(dropna=False)"
   ]
  },
  {
   "cell_type": "code",
   "execution_count": 28,
   "id": "989f9c84-8d8c-48cd-8d61-c553b9c0ba94",
   "metadata": {},
   "outputs": [
    {
     "data": {
      "text/plain": [
       "Medium\n",
       "Commercial color lithograph                              11\n",
       "Terracotta                                                8\n",
       "Etching                                                   6\n",
       "Engraving                                                 6\n",
       "Gelatin silver print                                      5\n",
       "                                                         ..\n",
       "Stoneware                                                 1\n",
       "Gilt bronze                                               1\n",
       "Steel, silver, niello; case:  leather, silver, niello     1\n",
       "Wool                                                      1\n",
       "Sugar-lift aquatint with roulette                         1\n",
       "Name: count, Length: 147, dtype: int64"
      ]
     },
     "execution_count": 28,
     "metadata": {},
     "output_type": "execute_result"
    }
   ],
   "source": [
    "# Replacing NaN with Unknown\n",
    "df.Medium.fillna('Unknown', inplace =True)\n",
    "df.Medium.value_counts(dropna=False)"
   ]
  },
  {
   "cell_type": "code",
   "execution_count": 29,
   "id": "9ddedcb9-be11-4d51-b5b3-487bb2a2440f",
   "metadata": {},
   "outputs": [
    {
     "data": {
      "text/plain": [
       "Country\n",
       "NaN                       170\n",
       "Egypt                      11\n",
       "United States               3\n",
       "France                      2\n",
       "Indonesia                   2\n",
       "Iran                        2\n",
       "Mexico                      2\n",
       "Costa Rica                  1\n",
       "India                       1\n",
       "Netherlands                 1\n",
       "Papua New Guinea            1\n",
       "Peru                        1\n",
       "USA                         1\n",
       "present-day France          1\n",
       "present-day Uzbekistan      1\n",
       "Name: count, dtype: int64"
      ]
     },
     "execution_count": 29,
     "metadata": {},
     "output_type": "execute_result"
    }
   ],
   "source": [
    "# Checking the missing values further for \"Country\"\n",
    "df.Country.value_counts(dropna=False)"
   ]
  },
  {
   "cell_type": "code",
   "execution_count": 30,
   "id": "64ae00f8-045a-47a5-89cd-9db1a0b961ec",
   "metadata": {},
   "outputs": [
    {
     "data": {
      "text/plain": [
       "Country\n",
       "Unknown                   170\n",
       "Egypt                      11\n",
       "United States               3\n",
       "France                      2\n",
       "Indonesia                   2\n",
       "Iran                        2\n",
       "Mexico                      2\n",
       "Costa Rica                  1\n",
       "India                       1\n",
       "Netherlands                 1\n",
       "Papua New Guinea            1\n",
       "Peru                        1\n",
       "USA                         1\n",
       "present-day France          1\n",
       "present-day Uzbekistan      1\n",
       "Name: count, dtype: int64"
      ]
     },
     "execution_count": 30,
     "metadata": {},
     "output_type": "execute_result"
    }
   ],
   "source": [
    "# Replacing NaN with Unknown\n",
    "df.Country = df.Country.cat.add_categories('Unknown')\n",
    "df.Country.fillna('Unknown', inplace =True)\n",
    "df.Country.value_counts(dropna=False)"
   ]
  },
  {
   "cell_type": "code",
   "execution_count": null,
   "id": "c806a603-50e1-4d24-b6f2-08778bdfaeb1",
   "metadata": {},
   "outputs": [],
   "source": []
  },
  {
   "cell_type": "code",
   "execution_count": 31,
   "id": "8f24cbf9-7b22-457b-bfc5-509de55057a7",
   "metadata": {},
   "outputs": [],
   "source": [
    "# replace missing values with another column\n",
    "df['Object End Date'] = df['Object End Date'].fillna(df['Object Begin Date'])"
   ]
  },
  {
   "cell_type": "code",
   "execution_count": 32,
   "id": "252c3972-c065-45de-b9e1-3d0bb30d688c",
   "metadata": {},
   "outputs": [],
   "source": [
    "# Define a function to convert negative years to \"BC\"\n",
    "def convert_to_bc(year):\n",
    "    if year < 0:\n",
    "        return f\"{abs(year)} BC\"\n",
    "    else:\n",
    "        return str(year)"
   ]
  },
  {
   "cell_type": "code",
   "execution_count": 33,
   "id": "79970d37-be92-4ce3-ade1-8bd512bad580",
   "metadata": {},
   "outputs": [],
   "source": [
    "# Apply the function to the \"Object Begin Date\"\n",
    "df['Object Begin Date'] = df['Object Begin Date'].apply(convert_to_bc)"
   ]
  },
  {
   "cell_type": "code",
   "execution_count": 34,
   "id": "e4b12b91-7f84-4ec2-afa0-c2646a220d92",
   "metadata": {},
   "outputs": [
    {
     "data": {
      "text/plain": [
       "array(['1794', '1700', '1740', '1885', '1840', '1701', '1770', '1580',\n",
       "       '1501', '1590', '1800', '1037', '206 BC', '300 BC', '1877', '1838',\n",
       "       '1966', '1790', '1983', '1980', '1949', '1959', '1950', '1976',\n",
       "       '1967', '2003', '1875', '1776', '1848', '1938', '1755', '1570',\n",
       "       '1750', '1600', '1775', '325 BC', '3200 BC', '800 BC', '524 BC',\n",
       "       '1600 BC', '2000 BC', '1860', '1981', '1945', '1858', '1922',\n",
       "       '1880', '1934', '1933', '1908', '1900', '1400', '300', '1200',\n",
       "       '1850', '3505 BC', '2500 BC', '7000 BC', '1895', '1696', '1584',\n",
       "       '1632', '1902', '1930', '1899', '1866', '1500', '1677', '1745',\n",
       "       '1548', '1591', '1650', '1743', '1876', '1643', '1957', '1535',\n",
       "       '1935', '1887', '1581', '1758', '1614', '1636', '1810', '1910',\n",
       "       '1909', '1300', '1490', '1250', '1100', '1510', '1940', '1904',\n",
       "       '1989', '1981 BC', '1295 BC', '3450 BC', '3900 BC', '1473 BC',\n",
       "       '2124 BC', '1390 BC', '1972', '1841', '1936', '1585', '1951',\n",
       "       '1970', '1954', '1795', '1912', '1961', '1890', '1941', '1921',\n",
       "       '1554', '1851', '1870', '500 BC', '1125', '1782', '1842', '530 BC',\n",
       "       '1530', '1884', '1545', '1960', '1784', '1865', '1872', '0',\n",
       "       '1978', '1953', '1942', '1979', '1525'], dtype=object)"
      ]
     },
     "execution_count": 34,
     "metadata": {},
     "output_type": "execute_result"
    }
   ],
   "source": [
    "df['Object Begin Date'].unique()"
   ]
  },
  {
   "cell_type": "code",
   "execution_count": 35,
   "id": "2f3bf22f-46ab-4715-832d-13ffc510f5bd",
   "metadata": {},
   "outputs": [],
   "source": [
    "# Apply the function to the \"Object End Date\"\n",
    "df['Object End Date'] = df['Object End Date'].apply(convert_to_bc)"
   ]
  },
  {
   "cell_type": "code",
   "execution_count": 36,
   "id": "ebafd733-31cb-4ffc-afdf-aa5e294de5ec",
   "metadata": {},
   "outputs": [
    {
     "data": {
      "text/plain": [
       "array(['1799', '1900', '1760', '1885', '1840', '1800', '1852', '1580',\n",
       "       '1600', '1850', '1101', '206 BC', '400', '1899', '1897', '1838',\n",
       "       '1966', '1810', '1987', '1989', '1984', '1967', '1949', '1959',\n",
       "       '1939', '1980', '2004', '1943', '1950', '1750', '1765', '1780',\n",
       "       '1699', '1815', '275 BC', '2000 BC', '501 BC', '475 BC', '1450 BC',\n",
       "       '1869', '1981', '1945', '1862', '1922', '1889', '1934', '1908',\n",
       "       '2000', '800', '3100 BC', '2500 BC', '5000 BC', '1895', '1770',\n",
       "       '1642', '1890', '1902', '1940', '1910', '1866', '1560', '1625',\n",
       "       '1755', '1612', '1666', '1914', '1650', '1743', '1876', '1875',\n",
       "       '1653', '1957', '1611', '1887', '1581', '1758', '1935', '1620',\n",
       "       '1548', '1636', '1931', '1820', '1909', '1499', '1999', '1299',\n",
       "       '1270', '1150', '1520', '1904', '1981 BC', '1295 BC', '3300 BC',\n",
       "       '3650 BC', '1458 BC', '2124 BC', '1390 BC', '1640 BC', '1975 BC',\n",
       "       '1972', '1851', '1936', '1585', '1951', '1970', '1954', '1795',\n",
       "       '1912', '1961', '1941', '1554', '1929', '1879', '450 BC', '1275',\n",
       "       '1782', '1842', '1550', '1884', '1545', '400 BC', '1905', '1975',\n",
       "       '300 BC', '1784', '1865', '1872', '0', '1978', '1953', '1942',\n",
       "       '1979', '1535'], dtype=object)"
      ]
     },
     "execution_count": 36,
     "metadata": {},
     "output_type": "execute_result"
    }
   ],
   "source": [
    "df['Object End Date'].unique()"
   ]
  },
  {
   "cell_type": "code",
   "execution_count": 37,
   "id": "19c2c50f-280a-4ea5-9a11-f0b141468492",
   "metadata": {},
   "outputs": [],
   "source": [
    "#drop rows where both dates missing\n",
    "df = df.drop(df[(df['Object Begin Date'] == '0') & (df['Object End Date'] == '0')].index)"
   ]
  },
  {
   "cell_type": "code",
   "execution_count": 38,
   "id": "a28a0d2e-ccd6-4db5-b336-a53868f80e27",
   "metadata": {},
   "outputs": [
    {
     "data": {
      "text/plain": [
       "(199, 11)"
      ]
     },
     "execution_count": 38,
     "metadata": {},
     "output_type": "execute_result"
    }
   ],
   "source": [
    "df.shape #only one row dropped"
   ]
  },
  {
   "cell_type": "code",
   "execution_count": null,
   "id": "9db02278-adda-4611-b9ce-2a6b5d378cd0",
   "metadata": {},
   "outputs": [],
   "source": []
  },
  {
   "cell_type": "code",
   "execution_count": 39,
   "id": "162f9e72-dda9-4500-a3e8-c9dc003542ea",
   "metadata": {},
   "outputs": [
    {
     "data": {
      "text/plain": [
       "Department\n",
       "Drawings and Prints                          79\n",
       "Costume Institute                            19\n",
       "Photographs                                  15\n",
       "European Sculpture and Decorative Arts       14\n",
       "Greek and Roman Art                          12\n",
       "Asian Art                                    11\n",
       "Egyptian Art                                 10\n",
       "Arms and Armor                                7\n",
       "Modern and Contemporary Art                   6\n",
       "Arts of Africa, Oceania, and the Americas     6\n",
       "American Decorative Arts                      5\n",
       "Islamic Art                                   4\n",
       "Medieval Art                                  3\n",
       "Ancient Near Eastern Art                      3\n",
       "The Cloisters                                 3\n",
       "Robert Lehman Collection                      1\n",
       "Unknown                                       1\n",
       "Name: count, dtype: int64"
      ]
     },
     "execution_count": 39,
     "metadata": {},
     "output_type": "execute_result"
    }
   ],
   "source": [
    "# checking if data values are consistent\n",
    "df.Department.value_counts(dropna=False) #consistent"
   ]
  },
  {
   "cell_type": "code",
   "execution_count": 40,
   "id": "df19910f-c936-4b7e-813b-9a44999f64cb",
   "metadata": {},
   "outputs": [
    {
     "data": {
      "text/plain": [
       "Object Name\n",
       "Print                   44\n",
       "Photograph              11\n",
       "Drawing                 11\n",
       "Book                     9\n",
       "Baseball card, print     7\n",
       "                        ..\n",
       "Chemisette               1\n",
       "Jacket                   1\n",
       "Necklace                 1\n",
       "Gloves                   1\n",
       "Print; ephemera          1\n",
       "Name: count, Length: 108, dtype: int64"
      ]
     },
     "execution_count": 40,
     "metadata": {},
     "output_type": "execute_result"
    }
   ],
   "source": [
    "df['Object Name'].value_counts(dropna=False) #consistent"
   ]
  },
  {
   "cell_type": "code",
   "execution_count": 41,
   "id": "ba138942-3120-4401-a73f-a39f8a836e41",
   "metadata": {},
   "outputs": [
    {
     "data": {
      "text/plain": [
       "Title\n",
       "Unknown                                          10\n",
       "Ensemble                                          3\n",
       "Fragment                                          3\n",
       "Terracotta fragment of a kylix (drinking cup)     2\n",
       "Evening dress                                     2\n",
       "                                                 ..\n",
       "Sherd                                             1\n",
       "Bird standard                                     1\n",
       "Bead                                              1\n",
       "New York Ledger: Bicycle Number                   1\n",
       "Landscape and Cattle                              1\n",
       "Name: count, Length: 184, dtype: int64"
      ]
     },
     "execution_count": 41,
     "metadata": {},
     "output_type": "execute_result"
    }
   ],
   "source": [
    "df['Title'].value_counts(dropna=False) #consistent"
   ]
  },
  {
   "cell_type": "code",
   "execution_count": 42,
   "id": "05759674-4099-46a8-bf08-31d2285d1d6f",
   "metadata": {},
   "outputs": [
    {
     "data": {
      "text/plain": [
       "Culture\n",
       "Unknown                                   117\n",
       "American                                   12\n",
       "Greek, Attic                                7\n",
       "French                                      7\n",
       "Japan                                       6\n",
       "Japanese                                    4\n",
       "German                                      4\n",
       "China                                       3\n",
       "European                                    2\n",
       "Cypriot                                     2\n",
       "Italian, Venice                             2\n",
       "British                                     2\n",
       "probably French                             2\n",
       "Spanish                                     1\n",
       "Thailand                                    1\n",
       "Timor                                       1\n",
       "Romanian                                    1\n",
       "Quechua                                     1\n",
       "possibly Greek                              1\n",
       "Minoan, Crete                               1\n",
       "Minoan                                      1\n",
       "possibly Spanish                            1\n",
       "Mexican                                     1\n",
       "probably German                             1\n",
       "South Netherlandish                         1\n",
       "Abelam people                               1\n",
       "Italic                                      1\n",
       "Italian                                     1\n",
       "Iran                                        1\n",
       "German, Silesia (Bunzlau)                   1\n",
       "German, Hanau                               1\n",
       "European, Eastern                           1\n",
       "European or Middle Eastern                  1\n",
       "Dutch                                       1\n",
       "Catalan                                     1\n",
       "Byzantine                                   1\n",
       "British, Stoke-on-Trent, Staffordshire      1\n",
       "British, Chelsea                            1\n",
       "Aztec                                       1\n",
       "Atlantic Watershed                          1\n",
       "Asmat people                                1\n",
       "India (Guler, Punjab Hills)                 1\n",
       "Name: count, dtype: int64"
      ]
     },
     "execution_count": 42,
     "metadata": {},
     "output_type": "execute_result"
    }
   ],
   "source": [
    "df['Culture'].value_counts(dropna=False) #needs modification"
   ]
  },
  {
   "cell_type": "code",
   "execution_count": 43,
   "id": "eca27029-d2df-49b2-bacc-0a53664430a2",
   "metadata": {},
   "outputs": [],
   "source": [
    "# Function to clean the 'Culture' column\n",
    "def clean_culture(culture):\n",
    "    # Remove uncertainty words like 'possibly' and 'probably'\n",
    "    culture = culture.replace('possibly ', '').replace('probably ', '')\n",
    "    # Split by commas, take the first part (primary culture), and strip spaces\n",
    "    primary_culture = culture.split(',')[0].strip()\n",
    "    return primary_culture"
   ]
  },
  {
   "cell_type": "code",
   "execution_count": 44,
   "id": "e14dfbd6-753a-454d-9ee1-a901306f10e0",
   "metadata": {},
   "outputs": [
    {
     "data": {
      "text/plain": [
       "Culture\n",
       "Unknown                       117\n",
       "American                       12\n",
       "French                          9\n",
       "Greek                           8\n",
       "German                          7\n",
       "Japan                           6\n",
       "Japanese                        4\n",
       "British                         4\n",
       "China                           3\n",
       "Italian                         3\n",
       "European                        3\n",
       "Minoan                          2\n",
       "Cypriot                         2\n",
       "Spanish                         2\n",
       "Romanian                        1\n",
       "Quechua                         1\n",
       "South Netherlandish             1\n",
       "Catalan                         1\n",
       "Byzantine                       1\n",
       "Iran                            1\n",
       "Timor                           1\n",
       "Mexican                         1\n",
       "Abelam people                   1\n",
       "India (Guler                    1\n",
       "Atlantic Watershed              1\n",
       "Aztec                           1\n",
       "Asmat people                    1\n",
       "Thailand                        1\n",
       "Italic                          1\n",
       "Dutch                           1\n",
       "European or Middle Eastern      1\n",
       "Name: count, dtype: int64"
      ]
     },
     "execution_count": 44,
     "metadata": {},
     "output_type": "execute_result"
    }
   ],
   "source": [
    "# Apply the function to the column\n",
    "df.Culture = df.Culture.apply(clean_culture)\n",
    "df['Culture'].value_counts(dropna=False)"
   ]
  },
  {
   "cell_type": "code",
   "execution_count": 45,
   "id": "15d6ec73-f5ec-4502-b9f0-876e3908889e",
   "metadata": {},
   "outputs": [
    {
     "data": {
      "text/plain": [
       "Culture\n",
       "Unknown                       117\n",
       "American                       12\n",
       "Japanese                       10\n",
       "French                          9\n",
       "Greek                           8\n",
       "German                          7\n",
       "British                         4\n",
       "Italian                         4\n",
       "Chinese                         3\n",
       "European                        3\n",
       "Minoan                          2\n",
       "Cypriot                         2\n",
       "Spanish                         2\n",
       "Romanian                        1\n",
       "Quechua                         1\n",
       "South Netherlandish             1\n",
       "Catalan                         1\n",
       "Byzantine                       1\n",
       "Iranian                         1\n",
       "Timor                           1\n",
       "Mexican                         1\n",
       "Abelam people                   1\n",
       "Indian                          1\n",
       "Atlantic Watershed              1\n",
       "Aztec                           1\n",
       "Asmat people                    1\n",
       "Thailand                        1\n",
       "Dutch                           1\n",
       "European or Middle Eastern      1\n",
       "Name: count, dtype: int64"
      ]
     },
     "execution_count": 45,
     "metadata": {},
     "output_type": "execute_result"
    }
   ],
   "source": [
    "df['Culture'] = df['Culture'].replace('Japan','Japanese').replace('China','Chinese').replace('Iran','Iranian').replace('India (Guler','Indian').replace('Italic','Italian')\n",
    "df['Culture'].value_counts(dropna=False)"
   ]
  },
  {
   "cell_type": "code",
   "execution_count": 46,
   "id": "18502ff4-a516-4aa5-9e72-d690896951de",
   "metadata": {},
   "outputs": [
    {
     "data": {
      "text/plain": [
       "Artist Nationality\n",
       "Unknown                                                    114\n",
       "American                                                    26\n",
       "Italian                                                     10\n",
       "Japanese                                                     4\n",
       "French                                                       4\n",
       "French|French                                                3\n",
       "British                                                      3\n",
       "Chinese                                                      2\n",
       "Mexican                                                      2\n",
       "Italian|Italian                                              2\n",
       "American, born Russia                                        2\n",
       "American|American                                            2\n",
       "Dutch                                                        1\n",
       "British|British                                              1\n",
       "Scottish|British|British, Scottish|British|British           1\n",
       "Netherlandish|German                                         1\n",
       "Austrian                                                     1\n",
       "Japanese|Japanese                                            1\n",
       "Belgian                                                      1\n",
       "Italian|Italian|Italian|Italian|Italian                      1\n",
       "Italian|Italian|German                                       1\n",
       "British, Scottish                                            1\n",
       "Italian|British                                              1\n",
       "Italian|Bohemian                                             1\n",
       "German|American|American|American                            1\n",
       "Dutch|Dutch|Dutch                                            1\n",
       "German                                                       1\n",
       "French|Italian                                               1\n",
       "French|French|French|French|French|French                    1\n",
       "French|French|French|French|French                           1\n",
       "American|American|American                                   1\n",
       "British|British|British|British|British|British|British      1\n",
       "French|British                                               1\n",
       "French, born Italy                                           1\n",
       "Canadian                                                     1\n",
       "Finnish|Finnish                                              1\n",
       "French|French?|French                                        1\n",
       "Name: count, dtype: int64"
      ]
     },
     "execution_count": 46,
     "metadata": {},
     "output_type": "execute_result"
    }
   ],
   "source": [
    "df['Artist Nationality'].value_counts(dropna=False) #needs modification"
   ]
  },
  {
   "cell_type": "code",
   "execution_count": 47,
   "id": "1b1b0045-bdf0-4b40-9c8b-f95a8d0f55be",
   "metadata": {},
   "outputs": [],
   "source": [
    "# Function to clean \"Artist Nationality\"\n",
    "def clean_nationality(nationality):\n",
    "    # Replace '?' and split by both '|' and ', '\n",
    "    nationalities = nationality.replace('?', '').replace(', ', '|').split('|')\n",
    "    # Remove duplicates by converting to set and join them with ', '\n",
    "    return ', '.join(sorted(set(nationalities)))"
   ]
  },
  {
   "cell_type": "code",
   "execution_count": 48,
   "id": "49a35b0c-762a-4bd8-973d-eab75b2810ce",
   "metadata": {},
   "outputs": [
    {
     "data": {
      "text/plain": [
       "Artist Nationality\n",
       "Unknown                  114\n",
       "American                  29\n",
       "Italian                   13\n",
       "French                    10\n",
       "Japanese                   5\n",
       "British                    5\n",
       "Dutch                      2\n",
       "Chinese                    2\n",
       "Mexican                    2\n",
       "British, Scottish          2\n",
       "American, born Russia      2\n",
       "Finnish                    1\n",
       "British, Italian           1\n",
       "Austrian                   1\n",
       "Canadian                   1\n",
       "German, Italian            1\n",
       "British, French            1\n",
       "German                     1\n",
       "French, Italian            1\n",
       "German, Netherlandish      1\n",
       "Bohemian, Italian          1\n",
       "Belgian                    1\n",
       "French, born Italy         1\n",
       "American, German           1\n",
       "Name: count, dtype: int64"
      ]
     },
     "execution_count": 48,
     "metadata": {},
     "output_type": "execute_result"
    }
   ],
   "source": [
    "# Apply the function to the column\n",
    "df['Artist Nationality'] = df['Artist Nationality'].apply(clean_nationality)\n",
    "df['Artist Nationality'].value_counts(dropna=False)"
   ]
  },
  {
   "cell_type": "code",
   "execution_count": 49,
   "id": "5390c6b1-cc55-4b7f-8e1d-5254c0ee923b",
   "metadata": {},
   "outputs": [],
   "source": [
    "df.Medium = df.Medium.replace('[no medium available]','Unknown')"
   ]
  },
  {
   "cell_type": "code",
   "execution_count": 50,
   "id": "ea4166ab-4223-4283-86f8-3ca1361a674d",
   "metadata": {},
   "outputs": [
    {
     "data": {
      "text/plain": [
       "Medium\n",
       "Commercial color lithograph                              11\n",
       "Terracotta                                                8\n",
       "Etching                                                   6\n",
       "Engraving                                                 6\n",
       "Gelatin silver print                                      5\n",
       "                                                         ..\n",
       "Gold                                                      1\n",
       "Stoneware                                                 1\n",
       "Gilt bronze                                               1\n",
       "Steel, silver, niello; case:  leather, silver, niello     1\n",
       "Sugar-lift aquatint with roulette                         1\n",
       "Name: count, Length: 146, dtype: int64"
      ]
     },
     "execution_count": 50,
     "metadata": {},
     "output_type": "execute_result"
    }
   ],
   "source": [
    "df.Medium.value_counts(dropna=False)"
   ]
  },
  {
   "cell_type": "code",
   "execution_count": 51,
   "id": "8d4ceefe-4ec5-426b-82bd-eb334d40accb",
   "metadata": {},
   "outputs": [
    {
     "data": {
      "text/plain": [
       "Credit Line\n",
       "The Jefferson R. Burdick Collection, Gift of Jefferson R. Burdick                          20\n",
       "Gift of Dietrich von Bothmer, Distinguished Research Curator, Greek and Roman Art, 2011     6\n",
       "Walker Evans Archive, 1994                                                                  3\n",
       "Gift of William Brewster, 1923                                                              3\n",
       "H. O. Havemeyer Collection, Bequest of Mrs. H. O. Havemeyer, 1929                           3\n",
       "                                                                                           ..\n",
       "Gift of Lincoln Kirstein, 1986                                                              1\n",
       "Gift of Linda A. Rosenthal, 1993                                                            1\n",
       "Gift of Lita Osmundsen, 1992                                                                1\n",
       "Gift of Lucien Goldschmidt, 1981                                                            1\n",
       "Gift of Samuel T. Peters, 1913                                                              1\n",
       "Name: count, Length: 153, dtype: int64"
      ]
     },
     "execution_count": 51,
     "metadata": {},
     "output_type": "execute_result"
    }
   ],
   "source": [
    "df['Credit Line'].value_counts(dropna=False) #consistent"
   ]
  },
  {
   "cell_type": "code",
   "execution_count": 52,
   "id": "c0d96538-297f-4139-bb90-e474da30f76e",
   "metadata": {},
   "outputs": [
    {
     "data": {
      "text/plain": [
       "Country\n",
       "Unknown                   170\n",
       "Egypt                      11\n",
       "United States               3\n",
       "France                      2\n",
       "Indonesia                   2\n",
       "Mexico                      2\n",
       "Costa Rica                  1\n",
       "India                       1\n",
       "Iran                        1\n",
       "Netherlands                 1\n",
       "Papua New Guinea            1\n",
       "Peru                        1\n",
       "USA                         1\n",
       "present-day France          1\n",
       "present-day Uzbekistan      1\n",
       "Name: count, dtype: int64"
      ]
     },
     "execution_count": 52,
     "metadata": {},
     "output_type": "execute_result"
    }
   ],
   "source": [
    "df.Country.value_counts(dropna=False)"
   ]
  },
  {
   "cell_type": "code",
   "execution_count": 53,
   "id": "6978a2fe-8a83-46c1-9612-8d36e0998af2",
   "metadata": {},
   "outputs": [],
   "source": [
    "# Function to clean the 'Country' column\n",
    "def clean_country(country):\n",
    "    # Remove 'present-day'\n",
    "    country = country.replace('present-day ', '')\n",
    "    return country"
   ]
  },
  {
   "cell_type": "code",
   "execution_count": 54,
   "id": "0bb7e023-3880-4589-846a-a134ec8db71a",
   "metadata": {},
   "outputs": [
    {
     "data": {
      "text/plain": [
       "Country\n",
       "Unknown             170\n",
       "Egypt                11\n",
       "United States         3\n",
       "France                3\n",
       "Indonesia             2\n",
       "Mexico                2\n",
       "Netherlands           1\n",
       "Costa Rica            1\n",
       "Papua New Guinea      1\n",
       "Peru                  1\n",
       "India                 1\n",
       "Iran                  1\n",
       "Uzbekistan            1\n",
       "USA                   1\n",
       "Name: count, dtype: int64"
      ]
     },
     "execution_count": 54,
     "metadata": {},
     "output_type": "execute_result"
    }
   ],
   "source": [
    "# Apply the function to the column\n",
    "df.Country = df.Country.apply(clean_country)\n",
    "df.Country.value_counts(dropna=False)"
   ]
  },
  {
   "cell_type": "code",
   "execution_count": 55,
   "id": "d625544f-3274-47bb-ac6b-4f530eea30e9",
   "metadata": {},
   "outputs": [],
   "source": [
    "df.to_csv(\"Cleaned Assignment1.csv\")"
   ]
  },
  {
   "cell_type": "code",
   "execution_count": null,
   "id": "65e0e5ca-6667-442d-b038-0a8829b81193",
   "metadata": {},
   "outputs": [],
   "source": []
  }
 ],
 "metadata": {
  "kernelspec": {
   "display_name": "Python 3 (ipykernel)",
   "language": "python",
   "name": "python3"
  },
  "language_info": {
   "codemirror_mode": {
    "name": "ipython",
    "version": 3
   },
   "file_extension": ".py",
   "mimetype": "text/x-python",
   "name": "python",
   "nbconvert_exporter": "python",
   "pygments_lexer": "ipython3",
   "version": "3.12.4"
  }
 },
 "nbformat": 4,
 "nbformat_minor": 5
}
